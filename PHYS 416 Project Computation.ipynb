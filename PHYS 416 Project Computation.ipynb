{
 "cells": [
  {
   "cell_type": "code",
   "execution_count": 55,
   "id": "6bb65e23",
   "metadata": {},
   "outputs": [],
   "source": [
    "import numpy as np\n",
    "import scipy as sp\n",
    "import scipy.integrate as integrate\n",
    "import networkx as nx\n",
    "import matplotlib.pyplot as plt\n",
    "import pandas as pd\n",
    "import random as rn\n",
    "from numpy import pi, cos, sin, mod, sqrt, cross, exp, meshgrid\n",
    "from random import random, randint, choice\n",
    "import matplotlib.colors as mcolors\n",
    "from matplotlib.colors import hsv_to_rgb"
   ]
  },
  {
   "cell_type": "code",
   "execution_count": 79,
   "id": "aae9027c",
   "metadata": {},
   "outputs": [],
   "source": [
    "N = 50\n",
    "G = nx.Graph()\n",
    "for i in range(N):\n",
    "    for j in range(N):\n",
    "        G.add_node((i,j), pos = (i,j))\n",
    "for sour in G:\n",
    "    i, j = sour\n",
    "    G.add_edge(sour, ((i+1) % N, j))\n",
    "    G.add_edge(sour, (i, (j+1) % N))\n",
    "    \n",
    "\n",
    "position = nx.get_node_attributes(G, 'pos')\n",
    "\n",
    "# fig = plt.subplot()\n",
    "# nx.draw(G, position, node_size = 15)\n",
    "# fig.set_aspect('equal', 'box')"
   ]
  },
  {
   "cell_type": "code",
   "execution_count": 57,
   "id": "5aae5903",
   "metadata": {
    "scrolled": true
   },
   "outputs": [
    {
     "name": "stdout",
     "output_type": "stream",
     "text": [
      "9\n",
      "8\n",
      "7\n",
      "6\n",
      "5\n",
      "4\n",
      "3\n",
      "2\n",
      "1\n",
      "0\n"
     ]
    }
   ],
   "source": [
    "beta = 1\n",
    "\n",
    "MetroSteps = 5*N**2\n",
    "\n",
    "#Creating a randomized initial state\n",
    "GroundState = np.zeros((N,N,2))\n",
    "for sour in G:\n",
    "    theta = random()*2*pi\n",
    "    GroundState[sour] = np.array([cos(theta), sin(theta)])\n",
    "\n",
    "for steps in range(MetroSteps):\n",
    "    sour = choice(list(G.nodes()))\n",
    "    theta = random()*2*pi\n",
    "    flip = np.array([cos(theta), sin(theta)])\n",
    "    Field = np.array([0.0,0.0])\n",
    "    for NN in G[sour]:\n",
    "        Field += GroundState[NN]\n",
    "    dEnergy = -np.dot(Field, flip-GroundState[sour])\n",
    "    p = random()\n",
    "    if dEnergy < 0 or p < exp(-beta*dEnergy):\n",
    "        GroundState[sour] = flip\n",
    "# fig, ax = plt.subplots(figsize=(5, 5))\n",
    "# for sour in G:\n",
    "#     i, j = sour\n",
    "#     spin = GroundState[sour]\n",
    "#     ax.quiver(i, j, spin[0], spin[1], scale = 7)\n",
    "# nx.draw(G, position, node_size = 15)\n",
    "# ax.set_aspect('equal', 'box')\n",
    "# plt.show()"
   ]
  },
  {
   "cell_type": "code",
   "execution_count": null,
   "id": "31cb0dd9",
   "metadata": {},
   "outputs": [],
   "source": [
    "AngleField = np.zeros((N,N))\n",
    "for sour in G:\n",
    "    AngleField[sour] = np.angle(GroundState[sour][0]+1j*GroundState[sour][1])\n",
    "\n",
    "plt.imshow(np.transpose(AngleField), origin = 'lower')\n",
    "plt.hsv()\n",
    "\n",
    "plt.colorbar(location = 'left', label = ' Phase')"
   ]
  },
  {
   "cell_type": "code",
   "execution_count": 155,
   "id": "bcaa1471",
   "metadata": {},
   "outputs": [
    {
     "name": "stderr",
     "output_type": "stream",
     "text": [
      "C:\\Users\\jamal\\AppData\\Local\\Temp\\ipykernel_31532\\2774345322.py:25: RuntimeWarning: divide by zero encountered in scalar divide\n",
      "  if dEnergy < 0 or p < exp(-dEnergy/T):\n"
     ]
    }
   ],
   "source": [
    "MetroSteps = 5*N**2\n",
    "\n",
    "#Creating a randomized initial state\n",
    "GroundState = np.zeros((N,N,2))\n",
    "for sour in G:\n",
    "    #theta = random()*2*pi\n",
    "    theta = 0\n",
    "    GroundState[sour] = np.array([cos(theta), sin(theta)])\n",
    "\n",
    "Trange = 10\n",
    "corr = np.zeros((N, Trange))\n",
    "Tlist = []\n",
    "for ii in range(Trange):\n",
    "    T = ii/5\n",
    "    Tlist.append(T)\n",
    "    ncorr = np.zeros((N,MetroSteps))\n",
    "    for step in range(MetroSteps):\n",
    "        sour = choice(list(G.nodes()))\n",
    "        theta = random()*2*pi\n",
    "        flip = np.array([cos(theta), sin(theta)])\n",
    "        Field = np.array([0.0,0.0])\n",
    "        for NN in G[sour]:\n",
    "            Field += GroundState[NN]\n",
    "        dEnergy = -np.dot(Field, flip-GroundState[sour])\n",
    "        p = random()\n",
    "        if dEnergy < 0 or p < exp(-dEnergy/T):\n",
    "            GroundState[sour] = flip\n",
    "        r_sum = np.zeros(N)\n",
    "        r_sample = np.zeros(N)\n",
    "        for i in range(N):\n",
    "            for j in range(N):\n",
    "                r_sum[abs(i-j)] += np.dot(GroundState[i,i], (GroundState[i,j]+GroundState[j,i]))\n",
    "                r_sample[abs(i-j)] += 2\n",
    "        ncorr[:,step] = r_sum/r_sample\n",
    "    corr[:,ii] = np.mean(ncorr, axis = 1)"
   ]
  },
  {
   "cell_type": "code",
   "execution_count": 197,
   "id": "da61f514",
   "metadata": {
    "scrolled": true
   },
   "outputs": [],
   "source": [
    "np.savetxt(\"corr.txt\", corr)"
   ]
  },
  {
   "cell_type": "code",
   "execution_count": 195,
   "id": "a3712964",
   "metadata": {},
   "outputs": [
    {
     "data": {
      "text/plain": [
       "array([[ 1.        ,  1.        ,  1.        ,  1.        ,  1.        ,\n",
       "         1.        ,  1.        ,  1.        ,  1.        ,  1.        ],\n",
       "       [ 1.        ,  0.98584189,  0.96410277,  0.92362386,  0.84965413,\n",
       "         0.78241348,  0.73013365,  0.57889021,  0.48661508,  0.41932266],\n",
       "       [ 1.        ,  0.9821723 ,  0.95288541,  0.8980184 ,  0.80639384,\n",
       "         0.72448388,  0.69143454,  0.49489002,  0.34448365,  0.25808679],\n",
       "       [ 1.        ,  0.98658302,  0.94349743,  0.89694837,  0.81780666,\n",
       "         0.72390633,  0.61553632,  0.47193189,  0.34330502,  0.23879196],\n",
       "       [ 1.        ,  0.98688795,  0.95554584,  0.90920514,  0.83176399,\n",
       "         0.7297025 ,  0.65030359,  0.50231623,  0.30055104,  0.24743501],\n",
       "       [ 1.        ,  0.98471639,  0.95699702,  0.90762783,  0.82065458,\n",
       "         0.73764182,  0.65591302,  0.51256945,  0.30959423,  0.18988281],\n",
       "       [ 1.        ,  0.98731046,  0.96540737,  0.93082485,  0.85366805,\n",
       "         0.73274716,  0.65041791,  0.49476721,  0.32857796,  0.24136125],\n",
       "       [ 1.        ,  0.98775208,  0.95789775,  0.92028315,  0.83750256,\n",
       "         0.75258999,  0.65187675,  0.50815563,  0.30495279,  0.2887813 ],\n",
       "       [ 1.        ,  0.98597665,  0.95603952,  0.919934  ,  0.86159071,\n",
       "         0.75284699,  0.66611471,  0.53454297,  0.30546461,  0.22062257],\n",
       "       [ 1.        ,  0.98476815,  0.96021611,  0.91801867,  0.84113403,\n",
       "         0.72342285,  0.6482285 ,  0.50395478,  0.33042388,  0.22875902],\n",
       "       [ 1.        ,  0.98694002,  0.95356848,  0.90639711,  0.82676616,\n",
       "         0.69792741,  0.64416036,  0.47996501,  0.28484498,  0.20041815],\n",
       "       [ 1.        ,  0.98671668,  0.9547187 ,  0.91702918,  0.83278716,\n",
       "         0.73987487,  0.66766992,  0.45186118,  0.29634085,  0.20352088],\n",
       "       [ 1.        ,  0.98462599,  0.94860508,  0.91720167,  0.82076   ,\n",
       "         0.74683419,  0.64087957,  0.41324332,  0.31665894,  0.18276566],\n",
       "       [ 1.        ,  0.98868687,  0.96575943,  0.93010373,  0.83361997,\n",
       "         0.69907124,  0.63440675,  0.43342562,  0.33626845,  0.21148375],\n",
       "       [ 1.        ,  0.98732062,  0.94888308,  0.90500973,  0.83346634,\n",
       "         0.69718497,  0.62056236,  0.38487941,  0.25667105,  0.18727453],\n",
       "       [ 1.        ,  0.98338832,  0.95493166,  0.90875861,  0.82098523,\n",
       "         0.72940813,  0.6500337 ,  0.43780695,  0.25247198,  0.18470923],\n",
       "       [ 1.        ,  0.98537701,  0.9483527 ,  0.91737642,  0.81317262,\n",
       "         0.68226194,  0.62071223,  0.41916364,  0.19352842,  0.13198307],\n",
       "       [ 1.        ,  0.98440581,  0.9562308 ,  0.91076905,  0.82256176,\n",
       "         0.74357491,  0.69169484,  0.47295824,  0.25066575,  0.1173742 ],\n",
       "       [ 1.        ,  0.98704404,  0.94817593,  0.88308167,  0.81739976,\n",
       "         0.74447835,  0.66392619,  0.41465924,  0.26056604,  0.10085384],\n",
       "       [ 1.        ,  0.98625287,  0.9579285 ,  0.90543402,  0.8223263 ,\n",
       "         0.74883955,  0.63749798,  0.43782621,  0.27807499,  0.08411114],\n",
       "       [ 1.        ,  0.98794981,  0.96004837,  0.91687104,  0.83378905,\n",
       "         0.73914466,  0.65870115,  0.44862025,  0.2679757 ,  0.14430302],\n",
       "       [ 1.        ,  0.98720402,  0.95058641,  0.89536979,  0.8353144 ,\n",
       "         0.69308436,  0.66533567,  0.46422929,  0.23129213,  0.1922362 ],\n",
       "       [ 1.        ,  0.9882945 ,  0.95781605,  0.90435661,  0.83879446,\n",
       "         0.69739105,  0.6696324 ,  0.50110082,  0.24394251,  0.16053677],\n",
       "       [ 1.        ,  0.98723747,  0.96121056,  0.91280011,  0.83519449,\n",
       "         0.7458911 ,  0.65378691,  0.49049414,  0.24442091,  0.10083365],\n",
       "       [ 1.        ,  0.98712527,  0.95653871,  0.89008106,  0.79389945,\n",
       "         0.75215747,  0.63420419,  0.43972928,  0.27565096,  0.15668739],\n",
       "       [ 1.        ,  0.98123512,  0.94885156,  0.8903754 ,  0.81820936,\n",
       "         0.72824047,  0.67002479,  0.45695382,  0.25022281,  0.17309356],\n",
       "       [ 1.        ,  0.98849865,  0.95298198,  0.90491478,  0.85175038,\n",
       "         0.75999969,  0.66207656,  0.50501185,  0.16068632,  0.16822904],\n",
       "       [ 1.        ,  0.98652448,  0.95600595,  0.90719378,  0.80499321,\n",
       "         0.7095411 ,  0.6739727 ,  0.39486737,  0.16215583,  0.16679483],\n",
       "       [ 1.        ,  0.98204131,  0.92769668,  0.90041369,  0.84156972,\n",
       "         0.65008742,  0.64310619,  0.49075067,  0.25529502,  0.0852848 ],\n",
       "       [ 1.        ,  0.98475065,  0.9588371 ,  0.90136016,  0.80442846,\n",
       "         0.70202828,  0.61259389,  0.51600209,  0.28165476,  0.04544009],\n",
       "       [ 1.        ,  0.98818742,  0.95479577,  0.90397465,  0.83998703,\n",
       "         0.72548103,  0.61078493,  0.54489433,  0.29701705,  0.18298761],\n",
       "       [ 1.        ,  0.98958561,  0.96678683,  0.91105747,  0.8255733 ,\n",
       "         0.67999365,  0.5958984 ,  0.55281318,  0.28772959,  0.20092614],\n",
       "       [ 1.        ,  0.98699248,  0.96480946,  0.88642957,  0.81157299,\n",
       "         0.71666503,  0.66687616,  0.52844864,  0.23995229,  0.19089153],\n",
       "       [ 1.        ,  0.98985097,  0.96543636,  0.90718509,  0.79903818,\n",
       "         0.59861353,  0.56310635,  0.49890661,  0.27666204,  0.22059696],\n",
       "       [ 1.        ,  0.98770737,  0.94096495,  0.93095118,  0.82916713,\n",
       "         0.66714823,  0.62391113,  0.46415841,  0.22210703,  0.15156959],\n",
       "       [ 1.        ,  0.98303532,  0.94654447,  0.9062937 ,  0.85390767,\n",
       "         0.65408853,  0.64441296,  0.39790118,  0.13861708,  0.19317318],\n",
       "       [ 1.        ,  0.98317512,  0.95580472,  0.91490822,  0.79362971,\n",
       "         0.61896166,  0.60220881,  0.41147955,  0.17578943,  0.15898797],\n",
       "       [ 1.        ,  0.98865784,  0.96610844,  0.9170537 ,  0.77443104,\n",
       "         0.57055911,  0.55724173,  0.35084883,  0.22838904,  0.10269744],\n",
       "       [ 1.        ,  0.99169615,  0.9602554 ,  0.92884925,  0.78191242,\n",
       "         0.64585152,  0.57563401,  0.47122731,  0.26899291,  0.12032106],\n",
       "       [ 1.        ,  0.99203396,  0.97921543,  0.91084092,  0.80402224,\n",
       "         0.67450295,  0.62875404,  0.47123117,  0.31224094,  0.10802429],\n",
       "       [ 1.        ,  0.9844697 ,  0.96514063,  0.91588586,  0.8261964 ,\n",
       "         0.67567638,  0.60509977,  0.46411811,  0.22176818,  0.15673067],\n",
       "       [ 1.        ,  0.99078011,  0.97126874,  0.90310528,  0.74513437,\n",
       "         0.58913343,  0.61002592,  0.4904446 ,  0.13705751,  0.16293319],\n",
       "       [ 1.        ,  0.98521406,  0.97314266,  0.92160429,  0.77283706,\n",
       "         0.59927692,  0.6725329 ,  0.50060486,  0.07776387,  0.16620052],\n",
       "       [ 1.        ,  0.98602802,  0.9707962 ,  0.92677806,  0.80591896,\n",
       "         0.62038367,  0.72370084,  0.5538139 ,  0.23132162,  0.15356963],\n",
       "       [ 1.        ,  0.98147537,  0.9531232 ,  0.90129375,  0.83177605,\n",
       "         0.68116104,  0.74666798,  0.50088016,  0.12945205,  0.2067094 ],\n",
       "       [ 1.        ,  0.98687381,  0.97042753,  0.90782462,  0.87293704,\n",
       "         0.67288455,  0.76416643,  0.4390466 , -0.01738209,  0.11390674],\n",
       "       [ 1.        ,  0.98476969,  0.96304083,  0.88244376,  0.81205901,\n",
       "         0.63210031,  0.73235643,  0.48273452,  0.12223646,  0.02877   ],\n",
       "       [ 1.        ,  0.97801164,  0.95527106,  0.92846893,  0.82899566,\n",
       "         0.61665802,  0.56387329,  0.31727399, -0.01845662, -0.05480912],\n",
       "       [ 1.        ,  0.97376882,  0.92121094,  0.9307309 ,  0.73786199,\n",
       "         0.62849517,  0.80128781,  0.32219965, -0.17749387, -0.07641356],\n",
       "       [ 1.        ,  0.99997774,  0.92036914,  0.92293134,  0.90792568,\n",
       "         0.7685853 ,  0.57859747,  0.34583767,  0.24847799, -0.13724698]])"
      ]
     },
     "execution_count": 195,
     "metadata": {},
     "output_type": "execute_result"
    }
   ],
   "source": []
  },
  {
   "cell_type": "code",
   "execution_count": 109,
   "id": "04bca5cc",
   "metadata": {
    "scrolled": true
   },
   "outputs": [
    {
     "name": "stderr",
     "output_type": "stream",
     "text": [
      "C:\\Users\\jamal\\AppData\\Local\\Temp\\ipykernel_31532\\3287308156.py:25: RuntimeWarning: divide by zero encountered in scalar divide\n",
      "  if dEnergy < 0 or p < exp(-dEnergy/T):\n"
     ]
    }
   ],
   "source": [
    "MetroSteps = 5*N**2\n",
    "\n",
    "#Creating a randomized initial state\n",
    "GroundState = np.zeros((N,N,2))\n",
    "for sour in G:\n",
    "    #theta = random()*2*pi\n",
    "    theta = 0\n",
    "    GroundState[sour] = np.array([cos(theta), sin(theta)])\n",
    "T = 0\n",
    "maglist = np.zeros((100, 2))\n",
    "Tlist = []\n",
    "\n",
    "for i in range(100):\n",
    "    T = i/50\n",
    "    Tlist.append(T)\n",
    "    for step in range(MetroSteps):\n",
    "        sour = choice(list(G.nodes()))\n",
    "        theta = random()*2*pi\n",
    "        flip = np.array([cos(theta), sin(theta)])\n",
    "        Field = np.array([0.0,0.0])\n",
    "        for NN in G[sour]:\n",
    "            Field += GroundState[NN]\n",
    "        dEnergy = -np.dot(Field, flip-GroundState[sour])\n",
    "        p = random()\n",
    "        if dEnergy < 0 or p < exp(-dEnergy/T):\n",
    "            GroundState[sour] = flip\n",
    "        r_sum = np.zeros(N)\n",
    "        r_sample = np.zeros(N)\n",
    "    for sour in G:\n",
    "        maglist[i] += GroundState[sour]\n",
    "    maglist[i] = maglist[i]/(N**2)\n"
   ]
  },
  {
   "cell_type": "code",
   "execution_count": 113,
   "id": "9d116716",
   "metadata": {},
   "outputs": [
    {
     "data": {
      "text/plain": [
       "Text(0.5, 0, '$Tk_B$')"
      ]
     },
     "execution_count": 113,
     "metadata": {},
     "output_type": "execute_result"
    },
    {
     "data": {
      "image/png": "[encoded data removed]",
      "text/plain": [
       "<Figure size 640x480 with 1 Axes>"
      ]
     },
     "metadata": {},
     "output_type": "display_data"
    }
   ],
   "source": [
    "magabs = sqrt(np.sum(maglist**2, axis = 1))\n",
    "plt.plot(Tlist, magabs)\n",
    "plt.ylabel(\"Magnetization\")\n",
    "plt.xlabel(f'$Tk_B$')"
   ]
  },
  {
   "cell_type": "code",
   "execution_count": 139,
   "id": "5edd2e1c",
   "metadata": {},
   "outputs": [
    {
     "name": "stderr",
     "output_type": "stream",
     "text": [
      "C:\\Users\\jamal\\AppData\\Local\\Temp\\ipykernel_31532\\740168310.py:25: RuntimeWarning: divide by zero encountered in scalar divide\n",
      "  if dEnergy < 0 or p < exp(-dEnergy/T):\n"
     ]
    }
   ],
   "source": [
    "MetroSteps = 5*N**2\n",
    "\n",
    "#Creating a randomized initial state\n",
    "GroundState = np.zeros((N,N,2))\n",
    "for sour in G:\n",
    "    #theta = random()*2*pi\n",
    "    theta = 0\n",
    "    GroundState[sour] = np.array([cos(theta), sin(theta)])\n",
    "T = 0\n",
    "maglist = np.zeros((100, 2))\n",
    "Tlist = []\n",
    "vortexlist = np.zeros(100)\n",
    "for ii in range(100):\n",
    "    T = ii/50\n",
    "    Tlist.append(T)\n",
    "    for step in range(MetroSteps):\n",
    "        sour = choice(list(G.nodes()))\n",
    "        theta = random()*2*pi\n",
    "        flip = np.array([cos(theta), sin(theta)])\n",
    "        Field = np.array([0.0,0.0])\n",
    "        for NN in G[sour]:\n",
    "            Field += GroundState[NN]\n",
    "        dEnergy = -np.dot(Field, flip-GroundState[sour])\n",
    "        p = random()\n",
    "        if dEnergy < 0 or p < exp(-dEnergy/T):\n",
    "            GroundState[sour] = flip\n",
    "        r_sum = np.zeros(N)\n",
    "        r_sample = np.zeros(N)\n",
    "        \n",
    "    for i in range(N-1):\n",
    "        for j in range(N-1):\n",
    "            detlist = []\n",
    "            detlist.append(GroundState[i,j,0]*GroundState[i+1, j, 1]-GroundState[i,j,1]*GroundState[i+1, j, 0])\n",
    "            detlist.append(GroundState[i+1,j,0]*GroundState[i+1, j+1, 1]-GroundState[i+1,j,1]*GroundState[i+1, j+1, 0])\n",
    "            detlist.append(GroundState[i+1,j+1,0]*GroundState[i, j+1, 1]-GroundState[i+1,j+1,1]*GroundState[i, j+1, 0])\n",
    "            detlist.append(GroundState[i,j+1,0]*GroundState[i, j, 1]-GroundState[i,j+1,1]*GroundState[i, j, 0])\n",
    "            detlist = [np.sign(det) for det in detlist]\n",
    "            if abs(sum(detlist)) == 4:\n",
    "                vortexlist[ii] += 1\n",
    "            "
   ]
  },
  {
   "cell_type": "code",
   "execution_count": 140,
   "id": "3934550b",
   "metadata": {},
   "outputs": [
    {
     "data": {
      "text/plain": [
       "Text(0, 0.5, 'Number of Vortices')"
      ]
     },
     "execution_count": 140,
     "metadata": {},
     "output_type": "execute_result"
    },
    {
     "data": {
      "image/png": "[encoded data removed]",
      "text/plain": [
       "<Figure size 640x480 with 1 Axes>"
      ]
     },
     "metadata": {},
     "output_type": "display_data"
    }
   ],
   "source": [
    "plt.plot(Tlist,vortexlist)\n",
    "plt.xlabel(f'Tk_B')\n",
    "plt.ylabel(\"Number of Vortices\")"
   ]
  }
 ],
 "metadata": {
  "kernelspec": {
   "display_name": "Python 3 (ipykernel)",
   "language": "python",
   "name": "python3"
  },
  "language_info": {
   "codemirror_mode": {
    "name": "ipython",
    "version": 3
   },
   "file_extension": ".py",
   "mimetype": "text/x-python",
   "name": "python",
   "nbconvert_exporter": "python",
   "pygments_lexer": "ipython3",
   "version": "3.11.5"
  }
 },
 "nbformat": 4,
 "nbformat_minor": 5
}
